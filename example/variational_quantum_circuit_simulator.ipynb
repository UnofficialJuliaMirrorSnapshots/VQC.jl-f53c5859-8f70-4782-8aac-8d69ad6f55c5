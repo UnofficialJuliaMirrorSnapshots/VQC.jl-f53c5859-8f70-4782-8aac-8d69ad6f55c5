{
 "cells": [
  {
   "cell_type": "code",
   "execution_count": 1,
   "metadata": {},
   "outputs": [
    {
     "data": {
      "text/plain": [
       "4-element Array{String,1}:\n",
       " \"@\"                                                                  \n",
       " \"@v#.#\"                                                              \n",
       " \"@stdlib\"                                                            \n",
       " \"/Users/guochu/Documents/QuantumSimulator/qi-variational-circuit/src\""
      ]
     },
     "execution_count": 1,
     "metadata": {},
     "output_type": "execute_result"
    }
   ],
   "source": [
    "push!(LOAD_PATH, \"/Users/guochu/Documents/QuantumSimulator/qi-variational-circuit/src\")"
   ]
  },
  {
   "cell_type": "markdown",
   "metadata": {},
   "source": [
    "# Part 1: Quantum State"
   ]
  },
  {
   "cell_type": "markdown",
   "metadata": {},
   "source": [
    "1. create an initial quantum state of 2 qubits |00>"
   ]
  },
  {
   "cell_type": "code",
   "execution_count": 3,
   "metadata": {},
   "outputs": [
    {
     "data": {
      "text/plain": [
       "StateVector{Complex{Float64}}(Complex{Float64}[1.0 + 0.0im, 0.0 + 0.0im, 0.0 + 0.0im, 0.0 + 0.0im])"
      ]
     },
     "execution_count": 3,
     "metadata": {},
     "output_type": "execute_result"
    }
   ],
   "source": [
    "using VQC\n",
    "state = qstate([0,0])\n",
    "# all the amplitudes of the state"
   ]
  },
  {
   "cell_type": "markdown",
   "metadata": {},
   "source": [
    "output all the amplitudes/probabilities of the quantum state"
   ]
  },
  {
   "cell_type": "code",
   "execution_count": 4,
   "metadata": {},
   "outputs": [
    {
     "name": "stdout",
     "output_type": "stream",
     "text": [
      "Complex{Float64}[1.0 + 0.0im, 0.0 + 0.0im, 0.0 + 0.0im, 0.0 + 0.0im]\n",
      "[1.0, 0.0, 0.0, 0.0]\n"
     ]
    }
   ],
   "source": [
    "println(amplitudes(state))\n",
    "println(probabilities(state))"
   ]
  },
  {
   "cell_type": "markdown",
   "metadata": {},
   "source": [
    "another way of creating a 2-qubits quantum state which are all initialized to be 0"
   ]
  },
  {
   "cell_type": "code",
   "execution_count": 5,
   "metadata": {},
   "outputs": [
    {
     "data": {
      "text/plain": [
       "4-element Array{Complex{Float64},1}:\n",
       " 1.0 + 0.0im\n",
       " 0.0 + 0.0im\n",
       " 0.0 + 0.0im\n",
       " 0.0 + 0.0im"
      ]
     },
     "execution_count": 5,
     "metadata": {},
     "output_type": "execute_result"
    }
   ],
   "source": [
    "state = qstate(2)\n",
    "amplitudes(state)"
   ]
  },
  {
   "cell_type": "markdown",
   "metadata": {},
   "source": [
    "2. create an initial quantum state of 2 qubits |01>"
   ]
  },
  {
   "cell_type": "code",
   "execution_count": 6,
   "metadata": {
    "scrolled": true
   },
   "outputs": [
    {
     "data": {
      "text/plain": [
       "4-element Array{Complex{Float64},1}:\n",
       " 6.123233995736766e-17 + 0.0im\n",
       "                   0.0 + 0.0im\n",
       "                   1.0 + 0.0im\n",
       "                   0.0 + 0.0im"
      ]
     },
     "execution_count": 6,
     "metadata": {},
     "output_type": "execute_result"
    }
   ],
   "source": [
    "state = qstate([0,1])\n",
    "amplitudes(state)"
   ]
  },
  {
   "cell_type": "markdown",
   "metadata": {},
   "source": [
    "output one amplitude or probability of the quantum state"
   ]
  },
  {
   "cell_type": "code",
   "execution_count": 7,
   "metadata": {},
   "outputs": [
    {
     "name": "stdout",
     "output_type": "stream",
     "text": [
      "6.123233995736766e-17 + 0.0im 0.0 + 0.0im 1.0 + 0.0im 0.0 + 0.0im\n",
      "3.749399456654644e-33 0.0 1.0 0.0\n"
     ]
    }
   ],
   "source": [
    "print(amplitude(state, [0,0]), ' ', amplitude(state, [1,0]), ' ', \n",
    "    amplitude(state, [0,1]), ' ', amplitude(state, [1,1]), '\\n')\n",
    "print(probability(state, [0,0]), ' ', probability(state, [1,0]), ' ', \n",
    "    probability(state, [0,1]), ' ', probability(state, [1,1]), '\\n')"
   ]
  },
  {
   "cell_type": "markdown",
   "metadata": {},
   "source": [
    "3. create a random quantum state on 2 qubits"
   ]
  },
  {
   "cell_type": "code",
   "execution_count": 8,
   "metadata": {},
   "outputs": [
    {
     "name": "stdout",
     "output_type": "stream",
     "text": [
      "Complex{Float64}[0.776199694449395 + 0.12983019709213295im, 0.5573260312537663 - 0.047858121169201254im, -0.03314800728363656 + 0.019873377251019425im, -0.1106252670318703 + 0.23243011459071647im]\n",
      "[0.6193418457403161, 0.31290270487492017, 0.0014937415102373587, 0.0662617078745262]\n"
     ]
    }
   ],
   "source": [
    "state = qrandn(2)\n",
    "println(amplitudes(state))\n",
    "println(probabilities(state))"
   ]
  },
  {
   "cell_type": "markdown",
   "metadata": {},
   "source": [
    "# Part 2: Quantum Circuit"
   ]
  },
  {
   "cell_type": "markdown",
   "metadata": {},
   "source": [
    "1. initialize an empty quantum circuit"
   ]
  },
  {
   "cell_type": "code",
   "execution_count": 9,
   "metadata": {},
   "outputs": [
    {
     "data": {
      "text/plain": [
       "QCircuit(VQC.AbstractQuantumOperation[])"
      ]
     },
     "execution_count": 9,
     "metadata": {},
     "output_type": "execute_result"
    }
   ],
   "source": [
    "circuit = QCircuit()"
   ]
  },
  {
   "cell_type": "markdown",
   "metadata": {},
   "source": [
    "2. various equivalent ways of adding gate operations"
   ]
  },
  {
   "cell_type": "code",
   "execution_count": 10,
   "metadata": {},
   "outputs": [
    {
     "name": "stdout",
     "output_type": "stream",
     "text": [
      "QCircuit(VQC.AbstractQuantumOperation[OneBodyGate{Array{Float64,2}}(1, [0.7071067811865475 0.7071067811865475; 0.7071067811865475 -0.7071067811865475]), TwoBodyGate{PermutedDimsArray{Float64,4,(1, 2, 3, 4),(1, 2, 3, 4),Array{Float64,4}}}((1, 3), [1.0 0.0; 0.0 0.0]\n",
      "\n",
      "[0.0 0.0; 0.0 1.0]\n",
      "\n",
      "[0.0 1.0; 0.0 0.0]\n",
      "\n",
      "[0.0 0.0; 1.0 0.0])])\n"
     ]
    }
   ],
   "source": [
    "push!(circuit, (1, H))\n",
    "push!(circuit, ((1,3), CNOT))\n",
    "println(circuit)"
   ]
  },
  {
   "cell_type": "code",
   "execution_count": 11,
   "metadata": {},
   "outputs": [
    {
     "data": {
      "text/plain": [
       "2-element Array{VQC.AbstractQuantumOperation,1}:\n",
       " OneBodyGate{Array{Float64,2}}(1, [0.7071067811865475 0.7071067811865475; 0.7071067811865475 -0.7071067811865475])                                                           \n",
       " TwoBodyGate{PermutedDimsArray{Float64,4,(1, 2, 3, 4),(1, 2, 3, 4),Array{Float64,4}}}((1, 3), [1.0 0.0; 0.0 0.0]\n",
       "\n",
       "[0.0 0.0; 0.0 1.0]\n",
       "\n",
       "[0.0 1.0; 0.0 0.0]\n",
       "\n",
       "[0.0 0.0; 1.0 0.0])"
      ]
     },
     "execution_count": 11,
     "metadata": {},
     "output_type": "execute_result"
    }
   ],
   "source": [
    "empty!(circuit)\n",
    "push!(circuit, gate(1, H))\n",
    "push!(circuit, gate((1,3), CNOT))"
   ]
  },
  {
   "cell_type": "code",
   "execution_count": 13,
   "metadata": {},
   "outputs": [
    {
     "data": {
      "text/plain": [
       "2-element Array{VQC.AbstractQuantumOperation,1}:\n",
       " OneBodyGate{Array{Float64,2}}(1, [0.7071067811865475 0.7071067811865475; 0.7071067811865475 -0.7071067811865475])                                                           \n",
       " TwoBodyGate{PermutedDimsArray{Float64,4,(1, 2, 3, 4),(1, 2, 3, 4),Array{Float64,4}}}((1, 3), [1.0 0.0; 0.0 0.0]\n",
       "\n",
       "[0.0 0.0; 0.0 1.0]\n",
       "\n",
       "[0.0 1.0; 0.0 0.0]\n",
       "\n",
       "[0.0 0.0; 1.0 0.0])"
      ]
     },
     "execution_count": 13,
     "metadata": {},
     "output_type": "execute_result"
    }
   ],
   "source": [
    "empty!(circuit)\n",
    "push!(circuit, HGate(1))\n",
    "push!(circuit, CNOTGate((1,3)))"
   ]
  },
  {
   "cell_type": "markdown",
   "metadata": {},
   "source": [
    "# Part 3: Generating an entangled Bell State"
   ]
  },
  {
   "cell_type": "markdown",
   "metadata": {},
   "source": [
    "## create a two qubit bell state $|\\psi> = |00> + |11>$"
   ]
  },
  {
   "cell_type": "code",
   "execution_count": 14,
   "metadata": {},
   "outputs": [
    {
     "data": {
      "text/plain": [
       "2-element Array{VQC.AbstractQuantumOperation,1}:\n",
       " OneBodyGate{Array{Float64,2}}(1, [0.7071067811865475 0.7071067811865475; 0.7071067811865475 -0.7071067811865475])                                                           \n",
       " TwoBodyGate{PermutedDimsArray{Float64,4,(1, 2, 3, 4),(1, 2, 3, 4),Array{Float64,4}}}((1, 2), [1.0 0.0; 0.0 0.0]\n",
       "\n",
       "[0.0 0.0; 0.0 1.0]\n",
       "\n",
       "[0.0 1.0; 0.0 0.0]\n",
       "\n",
       "[0.0 0.0; 1.0 0.0])"
      ]
     },
     "execution_count": 14,
     "metadata": {},
     "output_type": "execute_result"
    }
   ],
   "source": [
    "psi = qstate(2)\n",
    "circuit = QCircuit()\n",
    "push!(circuit, (1, H))\n",
    "push!(circuit, ((1, 2), CNOT))"
   ]
  },
  {
   "cell_type": "markdown",
   "metadata": {},
   "source": [
    "## Apply circuit (list of gate operations) to the quantum and get the probabilities"
   ]
  },
  {
   "cell_type": "code",
   "execution_count": 15,
   "metadata": {},
   "outputs": [
    {
     "name": "stdout",
     "output_type": "stream",
     "text": [
      "Bell state amplitudes: [0.4999999999999999, 0.0, 0.0, 0.4999999999999999]\n"
     ]
    }
   ],
   "source": [
    "apply!(circuit, psi)\n",
    "probs = probabilities(psi)\n",
    "print(\"Bell state amplitudes: \", probs, '\\n')"
   ]
  },
  {
   "cell_type": "markdown",
   "metadata": {},
   "source": [
    "adding quantum measurements"
   ]
  },
  {
   "cell_type": "code",
   "execution_count": 16,
   "metadata": {},
   "outputs": [
    {
     "data": {
      "text/plain": [
       "4-element Observables:\n",
       " (\"Q:Z1\", 1)                    \n",
       " (\"C:Z1->1\", 0.4999999999999999)\n",
       " (\"Q:Z2\", 1)                    \n",
       " (\"C:Z2->1\", 1.0)               "
      ]
     },
     "execution_count": 16,
     "metadata": {},
     "output_type": "execute_result"
    }
   ],
   "source": [
    "psi = qstate([0,0])\n",
    "push!(circuit, QMeasure(1))\n",
    "push!(circuit, QMeasure(2))\n",
    "results = apply!(circuit, psi)"
   ]
  },
  {
   "cell_type": "markdown",
   "metadata": {},
   "source": [
    "# Part 4: Variational Quantum Circuit"
   ]
  },
  {
   "cell_type": "markdown",
   "metadata": {},
   "source": [
    "## Training a variational quantum circuit to approximate a given quantum state"
   ]
  },
  {
   "cell_type": "code",
   "execution_count": 17,
   "metadata": {},
   "outputs": [],
   "source": [
    "circuit = QCircuit()\n",
    "for i in 1:3\n",
    "    push!(circuit, RxGate(i, Variable(randn())))\n",
    "end\n",
    "for i in 1:2\n",
    "    push!(circuit, ((i, i+1), CNOT))\n",
    "end\n",
    "for i in 1:3\n",
    "    push!(circuit, RxGate(i, Variable(randn())))\n",
    "end"
   ]
  },
  {
   "cell_type": "code",
   "execution_count": 18,
   "metadata": {},
   "outputs": [
    {
     "data": {
      "text/plain": [
       "StateVector{Complex{Float64}}(Complex{Float64}[0.7071067811865475 + 0.0im, 2.6512257811776554e-33 + 0.0im, 2.6512257811776554e-33 + 0.0im, 4.3297802811774664e-17 + 0.0im, 2.6512257811776554e-33 + 0.0im, 4.3297802811774664e-17 + 0.0im, 4.3297802811774664e-17 + 0.0im, 0.7071067811865475 + 0.0im])"
      ]
     },
     "execution_count": 18,
     "metadata": {},
     "output_type": "execute_result"
    }
   ],
   "source": [
    "target_state = (qstate([0,0,0]) + qstate([1,1,1])) / sqrt(2)"
   ]
  },
  {
   "cell_type": "code",
   "execution_count": 19,
   "metadata": {},
   "outputs": [
    {
     "data": {
      "text/plain": [
       "StateVector{Complex{Float64}}(Complex{Float64}[1.0 + 0.0im, 0.0 + 0.0im, 0.0 + 0.0im, 0.0 + 0.0im, 0.0 + 0.0im, 0.0 + 0.0im, 0.0 + 0.0im, 0.0 + 0.0im])"
      ]
     },
     "execution_count": 19,
     "metadata": {},
     "output_type": "execute_result"
    }
   ],
   "source": [
    "initial_state = qstate([0,0,0])"
   ]
  },
  {
   "cell_type": "markdown",
   "metadata": {},
   "source": [
    "## Loss function"
   ]
  },
  {
   "cell_type": "code",
   "execution_count": 20,
   "metadata": {},
   "outputs": [
    {
     "data": {
      "text/plain": [
       "loss (generic function with 1 method)"
      ]
     },
     "execution_count": 20,
     "metadata": {},
     "output_type": "execute_result"
    }
   ],
   "source": [
    "loss(c) = distance(target_state, c * initial_state)"
   ]
  },
  {
   "cell_type": "code",
   "execution_count": 21,
   "metadata": {},
   "outputs": [
    {
     "name": "stderr",
     "output_type": "stream",
     "text": [
      "┌ Info: Recompiling stale cache file /Users/guochu/.julia/compiled/v1.2/Flux/QdkVy.ji for Flux [587475ba-b771-5e3f-ad9e-33799f191a9c]\n",
      "└ @ Base loading.jl:1240\n"
     ]
    },
    {
     "name": "stdout",
     "output_type": "stream",
     "text": [
      "loss at step 50 is 1.4289400663730363\n",
      "loss at step 100 is 1.3953347572281105\n",
      "loss at step 150 is 1.357596515898042\n",
      "loss at step 200 is 1.3174518452491688\n",
      "loss at step 250 is 1.2770188065493964\n",
      "loss at step 300 is 1.2357926358100066\n",
      "loss at step 350 is 1.1946388627696432\n",
      "loss at step 400 is 1.1545693049632997\n",
      "loss at step 450 is 1.11366681556358\n",
      "loss at step 500 is 1.0663053087169965\n",
      "loss at step 550 is 1.015522452065365\n",
      "loss at step 600 is 0.9644803163621437\n",
      "loss at step 650 is 0.9157418835558285\n",
      "loss at step 700 is 0.8718935698994102\n",
      "loss at step 750 is 0.8354518369404341\n",
      "loss at step 800 is 0.8083215682694351\n",
      "loss at step 850 is 0.7907701985892626\n",
      "loss at step 900 is 0.7811309585799796\n",
      "loss at step 950 is 0.7738445994721401\n",
      "loss at step 1000 is 0.7687701445449661\n"
     ]
    },
    {
     "data": {
      "text/plain": [
       "6-element Array{Float64,1}:\n",
       "  6.945516268747694e-5\n",
       " -1.0451954890881623  \n",
       " -0.4686522747440412  \n",
       "  1.0437417749457387  \n",
       " -0.08594274097656085 \n",
       "  0.4688170735372074  "
      ]
     },
     "execution_count": 21,
     "metadata": {},
     "output_type": "execute_result"
    }
   ],
   "source": [
    "using Zygote\n",
    "using Flux.Optimise\n",
    "\n",
    "opt = ADAM()\n",
    "\n",
    "function train(epochs)\n",
    "    for i in 1:epochs\n",
    "        grad = collect_gradients(gradient(loss, circuit))\n",
    "        paras = parameters(circuit)\n",
    "        Optimise.update!(opt, paras, grad)\n",
    "        set_parameters!(paras, circuit)\n",
    "        if i % 50 == 0\n",
    "            println(\"loss at step $i is $(loss(circuit))\")\n",
    "        end\n",
    "    end\n",
    "    return parameters(circuit)\n",
    "end\n",
    "\n",
    "epochs = 1000\n",
    "\n",
    "train(epochs)\n"
   ]
  },
  {
   "cell_type": "markdown",
   "metadata": {},
   "source": [
    "## adding more variables"
   ]
  },
  {
   "cell_type": "code",
   "execution_count": 22,
   "metadata": {},
   "outputs": [
    {
     "name": "stdout",
     "output_type": "stream",
     "text": [
      "loss at step 50 is 0.9577313272773769\n",
      "loss at step 100 is 0.8531570515238291\n",
      "loss at step 150 is 0.8195826689977602\n",
      "loss at step 200 is 0.7936621547605035\n",
      "loss at step 250 is 0.7757403367975145\n",
      "loss at step 300 is 0.7665618988095855\n",
      "loss at step 350 is 0.765395194899375\n",
      "loss at step 400 is 0.7653951796732853\n",
      "loss at step 450 is 0.7653951645222906\n",
      "loss at step 500 is 0.7653951494454292\n",
      "loss at step 550 is 0.7653951344417596\n",
      "loss at step 600 is 0.76539511951036\n",
      "loss at step 650 is 0.765395104650329\n",
      "loss at step 700 is 0.7653950898607823\n",
      "loss at step 750 is 0.7653950751408551\n",
      "loss at step 800 is 0.7653950604896995\n",
      "loss at step 850 is 0.7653950459064852\n",
      "loss at step 900 is 0.765395031390398\n",
      "loss at step 950 is 0.7653950169406407\n",
      "loss at step 1000 is 0.7653950025564311\n"
     ]
    },
    {
     "data": {
      "text/plain": [
       "21-element Array{Float64,1}:\n",
       "  0.10607666052558169 \n",
       " -0.9391882837252679  \n",
       " -0.38065150724325836 \n",
       "  0.7177510922012131  \n",
       " -0.13794414378151537 \n",
       "  0.5568178410379907  \n",
       " -0.15183735942181897 \n",
       "  0.041708968365095085\n",
       " -0.293499726631811   \n",
       "  1.0168465689956865  \n",
       "  1.2618381467553534  \n",
       "  0.17378355372978735 \n",
       "  0.07354040087135962 \n",
       "  0.9096892151632552  \n",
       "  0.6901759254052895  \n",
       " -0.7194223661286077  \n",
       " -1.3954681872480392  \n",
       "  1.0775908976103632  \n",
       "  0.42169798579281376 \n",
       " -3.338791590869262   \n",
       "  0.29539814451276125 "
      ]
     },
     "execution_count": 22,
     "metadata": {},
     "output_type": "execute_result"
    }
   ],
   "source": [
    "depth = 5\n",
    "for i in 1:depth\n",
    "    for i in 1:2\n",
    "        push!(circuit, ((i, i+1), CNOT))\n",
    "    end\n",
    "    for i in 1:3\n",
    "        push!(circuit, RxGate(i, Variable(randn())))\n",
    "    end\n",
    "end\n",
    "\n",
    "epochs = 1000\n",
    "train(epochs)"
   ]
  },
  {
   "cell_type": "markdown",
   "metadata": {},
   "source": [
    "### result is not so good, try adding RyGate?"
   ]
  },
  {
   "cell_type": "code",
   "execution_count": 23,
   "metadata": {},
   "outputs": [
    {
     "name": "stdout",
     "output_type": "stream",
     "text": [
      "loss at step 50 is 1.1600776548421248\n",
      "loss at step 100 is 1.0359331636154598\n",
      "loss at step 150 is 0.9112819698032244\n",
      "loss at step 200 is 0.82435981371942\n",
      "loss at step 250 is 0.7562275757775163\n",
      "loss at step 300 is 0.694383633813932\n",
      "loss at step 350 is 0.6468960277908414\n",
      "loss at step 400 is 0.608453130088702\n",
      "loss at step 450 is 0.5789336522880341\n",
      "loss at step 500 is 0.5598112541709414\n",
      "loss at step 550 is 0.5445386162144735\n",
      "loss at step 600 is 0.5076257117852856\n",
      "loss at step 650 is 0.44157253888804193\n",
      "loss at step 700 is 0.3616572291523113\n",
      "loss at step 750 is 0.2767651498668558\n",
      "loss at step 800 is 0.1949268401547264\n",
      "loss at step 850 is 0.12396111563084614\n",
      "loss at step 900 is 0.055888952361053616\n",
      "loss at step 950 is 0.0034487042700372737\n",
      "loss at step 1000 is 0.0032497766480726943\n"
     ]
    },
    {
     "data": {
      "text/plain": [
       "24-element Array{Float64,1}:\n",
       " -0.3759228350698378   \n",
       " -0.8931896823003471   \n",
       " -0.3466482747991972   \n",
       "  0.3257485429566889   \n",
       " -0.3099496949647585   \n",
       "  0.5908210734820518   \n",
       "  0.49816537724173815  \n",
       "  0.08770756979001547  \n",
       " -0.25949649418775006  \n",
       "  1.5708463024890804   \n",
       "  1.089832595572112    \n",
       "  0.207786786173849    \n",
       " -0.4084590947240597   \n",
       "  0.9556878165881748   \n",
       "  0.7241791578493505   \n",
       " -1.1114249153731297   \n",
       " -1.5674737384312807   \n",
       "  1.111594130054424    \n",
       "  1.0717007224563675   \n",
       " -3.292792989444341    \n",
       "  0.32940137695682253  \n",
       " -0.784733317329098    \n",
       " -0.0004185592694787817\n",
       "  0.0002910436732968399"
      ]
     },
     "execution_count": 23,
     "metadata": {},
     "output_type": "execute_result"
    }
   ],
   "source": [
    "for i in 1:2\n",
    "    push!(circuit, ((i, i+1), CNOT))\n",
    "end\n",
    "for i in 1:3\n",
    "    push!(circuit, RyGate(i, Variable(randn())))\n",
    "end\n",
    "train(epochs)"
   ]
  },
  {
   "cell_type": "markdown",
   "metadata": {},
   "source": [
    "# Part 5: Quantum Born Machine"
   ]
  },
  {
   "cell_type": "code",
   "execution_count": 24,
   "metadata": {},
   "outputs": [
    {
     "data": {
      "text/plain": [
       "10-element Array{Array{Int64,1},1}:\n",
       " [1, 1, 0, 0, 0]\n",
       " [1, 1, 0, 1, 1]\n",
       " [0, 1, 0, 0, 0]\n",
       " [1, 0, 1, 0, 0]\n",
       " [1, 1, 0, 1, 1]\n",
       " [0, 1, 0, 0, 0]\n",
       " [1, 1, 0, 1, 0]\n",
       " [0, 0, 0, 1, 1]\n",
       " [1, 1, 0, 1, 1]\n",
       " [0, 0, 0, 1, 1]"
      ]
     },
     "execution_count": 24,
     "metadata": {},
     "output_type": "execute_result"
    }
   ],
   "source": [
    "L = 5\n",
    "N = 10\n",
    "cdata = [rand(0:1, 5) for _ in 1:N]"
   ]
  },
  {
   "cell_type": "markdown",
   "metadata": {},
   "source": [
    "convert classical data into quanutm data, using $\\theta \\rightarrow [\\cos(\\theta), \\sin(\\theta)]$"
   ]
  },
  {
   "cell_type": "code",
   "execution_count": 25,
   "metadata": {},
   "outputs": [
    {
     "data": {
      "text/plain": [
       "10-element Array{StateVector{Complex{Float64}},1}:\n",
       " StateVector{Complex{Float64}}(Complex{Float64}[3.749399456654644e-33 + 0.0im, 6.123233995736766e-17 + 0.0im, 6.123233995736766e-17 + 0.0im, 1.0 + 0.0im, 0.0 + 0.0im, 0.0 + 0.0im, 0.0 + 0.0im, 0.0 + 0.0im, 0.0 + 0.0im, 0.0 + 0.0im  …  0.0 + 0.0im, 0.0 + 0.0im, 0.0 + 0.0im, 0.0 + 0.0im, 0.0 + 0.0im, 0.0 + 0.0im, 0.0 + 0.0im, 0.0 + 0.0im, 0.0 + 0.0im, 0.0 + 0.0im])                                                                                                               \n",
       " StateVector{Complex{Float64}}(Complex{Float64}[1.405799628556214e-65 + 0.0im, 2.2958450216584675e-49 + 0.0im, 2.2958450216584675e-49 + 0.0im, 3.749399456654644e-33 + 0.0im, 0.0 + 0.0im, 0.0 + 0.0im, 0.0 + 0.0im, 0.0 + 0.0im, 2.2958450216584675e-49 + 0.0im, 3.749399456654644e-33 + 0.0im  …  0.0 + 0.0im, 0.0 + 0.0im, 3.749399456654644e-33 + 0.0im, 6.123233995736766e-17 + 0.0im, 6.123233995736766e-17 + 0.0im, 1.0 + 0.0im, 0.0 + 0.0im, 0.0 + 0.0im, 0.0 + 0.0im, 0.0 + 0.0im])\n",
       " StateVector{Complex{Float64}}(Complex{Float64}[6.123233995736766e-17 + 0.0im, 0.0 + 0.0im, 1.0 + 0.0im, 0.0 + 0.0im, 0.0 + 0.0im, 0.0 + 0.0im, 0.0 + 0.0im, 0.0 + 0.0im, 0.0 + 0.0im, 0.0 + 0.0im  …  0.0 + 0.0im, 0.0 + 0.0im, 0.0 + 0.0im, 0.0 + 0.0im, 0.0 + 0.0im, 0.0 + 0.0im, 0.0 + 0.0im, 0.0 + 0.0im, 0.0 + 0.0im, 0.0 + 0.0im])                                                                                                                                                   \n",
       " StateVector{Complex{Float64}}(Complex{Float64}[3.749399456654644e-33 + 0.0im, 6.123233995736766e-17 + 0.0im, 0.0 + 0.0im, 0.0 + 0.0im, 6.123233995736766e-17 + 0.0im, 1.0 + 0.0im, 0.0 + 0.0im, 0.0 + 0.0im, 0.0 + 0.0im, 0.0 + 0.0im  …  0.0 + 0.0im, 0.0 + 0.0im, 0.0 + 0.0im, 0.0 + 0.0im, 0.0 + 0.0im, 0.0 + 0.0im, 0.0 + 0.0im, 0.0 + 0.0im, 0.0 + 0.0im, 0.0 + 0.0im])                                                                                                               \n",
       " StateVector{Complex{Float64}}(Complex{Float64}[1.405799628556214e-65 + 0.0im, 2.2958450216584675e-49 + 0.0im, 2.2958450216584675e-49 + 0.0im, 3.749399456654644e-33 + 0.0im, 0.0 + 0.0im, 0.0 + 0.0im, 0.0 + 0.0im, 0.0 + 0.0im, 2.2958450216584675e-49 + 0.0im, 3.749399456654644e-33 + 0.0im  …  0.0 + 0.0im, 0.0 + 0.0im, 3.749399456654644e-33 + 0.0im, 6.123233995736766e-17 + 0.0im, 6.123233995736766e-17 + 0.0im, 1.0 + 0.0im, 0.0 + 0.0im, 0.0 + 0.0im, 0.0 + 0.0im, 0.0 + 0.0im])\n",
       " StateVector{Complex{Float64}}(Complex{Float64}[6.123233995736766e-17 + 0.0im, 0.0 + 0.0im, 1.0 + 0.0im, 0.0 + 0.0im, 0.0 + 0.0im, 0.0 + 0.0im, 0.0 + 0.0im, 0.0 + 0.0im, 0.0 + 0.0im, 0.0 + 0.0im  …  0.0 + 0.0im, 0.0 + 0.0im, 0.0 + 0.0im, 0.0 + 0.0im, 0.0 + 0.0im, 0.0 + 0.0im, 0.0 + 0.0im, 0.0 + 0.0im, 0.0 + 0.0im, 0.0 + 0.0im])                                                                                                                                                   \n",
       " StateVector{Complex{Float64}}(Complex{Float64}[2.2958450216584675e-49 + 0.0im, 3.749399456654644e-33 + 0.0im, 3.749399456654644e-33 + 0.0im, 6.123233995736766e-17 + 0.0im, 0.0 + 0.0im, 0.0 + 0.0im, 0.0 + 0.0im, 0.0 + 0.0im, 3.749399456654644e-33 + 0.0im, 6.123233995736766e-17 + 0.0im  …  0.0 + 0.0im, 0.0 + 0.0im, 0.0 + 0.0im, 0.0 + 0.0im, 0.0 + 0.0im, 0.0 + 0.0im, 0.0 + 0.0im, 0.0 + 0.0im, 0.0 + 0.0im, 0.0 + 0.0im])                                                        \n",
       " StateVector{Complex{Float64}}(Complex{Float64}[3.749399456654644e-33 + 0.0im, 0.0 + 0.0im, 0.0 + 0.0im, 0.0 + 0.0im, 0.0 + 0.0im, 0.0 + 0.0im, 0.0 + 0.0im, 0.0 + 0.0im, 6.123233995736766e-17 + 0.0im, 0.0 + 0.0im  …  0.0 + 0.0im, 0.0 + 0.0im, 1.0 + 0.0im, 0.0 + 0.0im, 0.0 + 0.0im, 0.0 + 0.0im, 0.0 + 0.0im, 0.0 + 0.0im, 0.0 + 0.0im, 0.0 + 0.0im])                                                                                                                                 \n",
       " StateVector{Complex{Float64}}(Complex{Float64}[1.405799628556214e-65 + 0.0im, 2.2958450216584675e-49 + 0.0im, 2.2958450216584675e-49 + 0.0im, 3.749399456654644e-33 + 0.0im, 0.0 + 0.0im, 0.0 + 0.0im, 0.0 + 0.0im, 0.0 + 0.0im, 2.2958450216584675e-49 + 0.0im, 3.749399456654644e-33 + 0.0im  …  0.0 + 0.0im, 0.0 + 0.0im, 3.749399456654644e-33 + 0.0im, 6.123233995736766e-17 + 0.0im, 6.123233995736766e-17 + 0.0im, 1.0 + 0.0im, 0.0 + 0.0im, 0.0 + 0.0im, 0.0 + 0.0im, 0.0 + 0.0im])\n",
       " StateVector{Complex{Float64}}(Complex{Float64}[3.749399456654644e-33 + 0.0im, 0.0 + 0.0im, 0.0 + 0.0im, 0.0 + 0.0im, 0.0 + 0.0im, 0.0 + 0.0im, 0.0 + 0.0im, 0.0 + 0.0im, 6.123233995736766e-17 + 0.0im, 0.0 + 0.0im  …  0.0 + 0.0im, 0.0 + 0.0im, 1.0 + 0.0im, 0.0 + 0.0im, 0.0 + 0.0im, 0.0 + 0.0im, 0.0 + 0.0im, 0.0 + 0.0im, 0.0 + 0.0im, 0.0 + 0.0im])                                                                                                                                 "
      ]
     },
     "execution_count": 25,
     "metadata": {},
     "output_type": "execute_result"
    }
   ],
   "source": [
    "data = [qstate(item) for item in cdata]"
   ]
  },
  {
   "cell_type": "code",
   "execution_count": 26,
   "metadata": {},
   "outputs": [],
   "source": [
    "initial_state = qstate(L)\n",
    "loss_born(x) = begin\n",
    "    r = 0.\n",
    "    for i in 1:length(data)\n",
    "        r += distance(data[i], x * initial_state)\n",
    "    end\n",
    "    return r/length(data)\n",
    "end\n",
    "\n",
    "circuit = QCircuit()\n",
    "for i in 1:L\n",
    "    push!(circuit, RyGate(i, Variable(randn())))\n",
    "end\n",
    "depth = 3\n",
    "for _ in 1:depth\n",
    "    for i in 1:(L-1)\n",
    "        push!(circuit, ((i, i+1), CNOT))\n",
    "    end\n",
    "    for i in 1:L\n",
    "       push!(circuit, RyGate(i, Variable(randn())))\n",
    "    end\n",
    "end\n",
    "for _ in 1:depth\n",
    "    for i in 1:(L-1)\n",
    "        push!(circuit, ((i, i+1), CNOT))\n",
    "    end\n",
    "    for i in 1:L\n",
    "       push!(circuit, RxGate(i, Variable(randn())))\n",
    "    end\n",
    "end"
   ]
  },
  {
   "cell_type": "code",
   "execution_count": 25,
   "metadata": {},
   "outputs": [
    {
     "name": "stdout",
     "output_type": "stream",
     "text": [
      "loss at step 50 is 1.3585249193774724\n",
      "loss at step 100 is 1.3257391575241875\n",
      "loss at step 150 is 1.29259893978278\n",
      "loss at step 200 is 1.2656446409502013\n",
      "loss at step 250 is 1.248173887118782\n",
      "loss at step 300 is 1.2358386698588066\n",
      "loss at step 350 is 1.226570315104271\n",
      "loss at step 400 is 1.2196950449518251\n",
      "loss at step 450 is 1.2141800512567895\n",
      "loss at step 500 is 1.209673770967432\n",
      "loss at step 550 is 1.2066673792039309\n",
      "loss at step 600 is 1.2043986987477078\n",
      "loss at step 650 is 1.202160445147671\n",
      "loss at step 700 is 1.2002967057462652\n",
      "loss at step 750 is 1.1984483607003473\n",
      "loss at step 800 is 1.1967305082510589\n",
      "loss at step 850 is 1.195048798167059\n",
      "loss at step 900 is 1.193241192578311\n",
      "loss at step 950 is 1.1913960448773546\n",
      "loss at step 1000 is 1.1895693503365468\n"
     ]
    },
    {
     "data": {
      "text/plain": [
       "35-element Array{Float64,1}:\n",
       "  0.40734075155733135  \n",
       " -2.5174647491529076   \n",
       " -0.4542438657016483   \n",
       "  0.32364231125500614  \n",
       "  0.4392689958527556   \n",
       " -1.2000713437446173   \n",
       " -0.34330606322627727  \n",
       "  1.739261550308194    \n",
       " -1.695209221271547    \n",
       " -0.6558694360676401   \n",
       " -2.0304158413168394   \n",
       "  0.22219142852594448  \n",
       " -1.0380597812773142   \n",
       "  ⋮                    \n",
       " -0.8977835939907461   \n",
       "  0.41584991822489237  \n",
       " -0.7825746935318773   \n",
       " -0.7775407163926025   \n",
       " -1.5671060157530219   \n",
       "  0.005298568478114499 \n",
       " -0.8730077233313533   \n",
       "  0.7823665324426946   \n",
       " -0.7789940460981043   \n",
       " -0.0012319370524381521\n",
       " -1.4607954940910395   \n",
       "  0.4616028040447341   "
      ]
     },
     "execution_count": 25,
     "metadata": {},
     "output_type": "execute_result"
    }
   ],
   "source": [
    "opt = ADAM()\n",
    "\n",
    "function train_born(epochs)\n",
    "    for i in 1:epochs\n",
    "        grad = collect_gradients(gradient(loss_born, circuit))\n",
    "        paras = parameters(circuit)\n",
    "        Optimise.update!(opt, paras, grad)\n",
    "        set_parameters!(paras, circuit)\n",
    "        if i % 50 == 0\n",
    "            println(\"loss at step $i is $(loss_born(circuit))\")\n",
    "        end\n",
    "    end\n",
    "    return parameters(circuit)\n",
    "end\n",
    "\n",
    "train_born(1000)"
   ]
  }
 ],
 "metadata": {
  "kernelspec": {
   "display_name": "Julia 1.2.0",
   "language": "julia",
   "name": "julia-1.2"
  },
  "language_info": {
   "file_extension": ".jl",
   "mimetype": "application/julia",
   "name": "julia",
   "version": "1.2.0"
  }
 },
 "nbformat": 4,
 "nbformat_minor": 2
}
